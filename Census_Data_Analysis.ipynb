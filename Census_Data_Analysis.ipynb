{
  "nbformat": 4,
  "nbformat_minor": 0,
  "metadata": {
    "colab": {
      "provenance": [],
      "authorship_tag": "ABX9TyNSx01clTtlCLQTzWwa34hf",
      "include_colab_link": true
    },
    "kernelspec": {
      "name": "python3",
      "display_name": "Python 3"
    },
    "language_info": {
      "name": "python"
    }
  },
  "cells": [
    {
      "cell_type": "markdown",
      "metadata": {
        "id": "view-in-github",
        "colab_type": "text"
      },
      "source": [
        "<a href=\"https://colab.research.google.com/github/ultrasage-danz/Census-Data-Analysis/blob/main/Census_Data_Analysis.ipynb\" target=\"_parent\"><img src=\"https://colab.research.google.com/assets/colab-badge.svg\" alt=\"Open In Colab\"/></a>"
      ]
    },
    {
      "cell_type": "code",
      "execution_count": 33,
      "metadata": {
        "id": "sVEXNDKlafu2"
      },
      "outputs": [],
      "source": [
        "import pandas as pd\n"
      ]
    },
    {
      "cell_type": "code",
      "source": [
        "url = \"https://raw.githubusercontent.com/ultrasage-danz/Census-Data-Analysis/main/Census%2B2011.csv\"\n",
        "df = pd.read_csv(url)\n",
        "df.head()"
      ],
      "metadata": {
        "colab": {
          "base_uri": "https://localhost:8080/",
          "height": 429
        },
        "id": "EPzqzxwKbn8c",
        "outputId": "529f30b5-65d1-4a3f-de90-080316ba70dd"
      },
      "execution_count": 34,
      "outputs": [
        {
          "output_type": "execute_result",
          "data": {
            "text/plain": [
              "   District_code         State_name District_name  Population    Male  Female  \\\n",
              "0              1  JAMMU AND KASHMIR       Kupwara      870354  474190  396164   \n",
              "1              2  JAMMU AND KASHMIR        Badgam      753745  398041  355704   \n",
              "2              3  JAMMU AND KASHMIR   Leh(Ladakh)      133487   78971   54516   \n",
              "3              4  JAMMU AND KASHMIR        Kargil      140802   77785   63017   \n",
              "4              5  JAMMU AND KASHMIR         Punch      476835  251899  224936   \n",
              "\n",
              "   Literate  Workers  Male_Workers  Female_Workers  ...  Christians  Sikhs  \\\n",
              "0    439654   229064        190899           38165  ...        1700   5600   \n",
              "1    335649   214866        162578           52288  ...        1489   5559   \n",
              "2     93770    75079         53265           21814  ...         658   1092   \n",
              "3     86236    51873         39839           12034  ...         604   1171   \n",
              "4    261724   161393        117677           43716  ...         958  11188   \n",
              "\n",
              "   Buddhists  Jains  Secondary_Education  Higher_Education  \\\n",
              "0         66     39                74948             39709   \n",
              "1         47      6                66459             41367   \n",
              "2      88635    103                16265              8923   \n",
              "3      20126     28                16938              9826   \n",
              "4         83     10                46062             29517   \n",
              "\n",
              "   Graduate_Education  Age_Group_0_29  Age_Group_30_49  Age_Group_50  \n",
              "0               21751          600759           178435         89679  \n",
              "1               27950          503223           160933         88978  \n",
              "2                6197           70703            41515         21019  \n",
              "3                3077           87532            35561         17488  \n",
              "4               13962          304979           109818         61334  \n",
              "\n",
              "[5 rows x 25 columns]"
            ],
            "text/html": [
              "\n",
              "  <div id=\"df-f1b4b5be-bf8c-4cdd-85cf-f7206f31a608\" class=\"colab-df-container\">\n",
              "    <div>\n",
              "<style scoped>\n",
              "    .dataframe tbody tr th:only-of-type {\n",
              "        vertical-align: middle;\n",
              "    }\n",
              "\n",
              "    .dataframe tbody tr th {\n",
              "        vertical-align: top;\n",
              "    }\n",
              "\n",
              "    .dataframe thead th {\n",
              "        text-align: right;\n",
              "    }\n",
              "</style>\n",
              "<table border=\"1\" class=\"dataframe\">\n",
              "  <thead>\n",
              "    <tr style=\"text-align: right;\">\n",
              "      <th></th>\n",
              "      <th>District_code</th>\n",
              "      <th>State_name</th>\n",
              "      <th>District_name</th>\n",
              "      <th>Population</th>\n",
              "      <th>Male</th>\n",
              "      <th>Female</th>\n",
              "      <th>Literate</th>\n",
              "      <th>Workers</th>\n",
              "      <th>Male_Workers</th>\n",
              "      <th>Female_Workers</th>\n",
              "      <th>...</th>\n",
              "      <th>Christians</th>\n",
              "      <th>Sikhs</th>\n",
              "      <th>Buddhists</th>\n",
              "      <th>Jains</th>\n",
              "      <th>Secondary_Education</th>\n",
              "      <th>Higher_Education</th>\n",
              "      <th>Graduate_Education</th>\n",
              "      <th>Age_Group_0_29</th>\n",
              "      <th>Age_Group_30_49</th>\n",
              "      <th>Age_Group_50</th>\n",
              "    </tr>\n",
              "  </thead>\n",
              "  <tbody>\n",
              "    <tr>\n",
              "      <th>0</th>\n",
              "      <td>1</td>\n",
              "      <td>JAMMU AND KASHMIR</td>\n",
              "      <td>Kupwara</td>\n",
              "      <td>870354</td>\n",
              "      <td>474190</td>\n",
              "      <td>396164</td>\n",
              "      <td>439654</td>\n",
              "      <td>229064</td>\n",
              "      <td>190899</td>\n",
              "      <td>38165</td>\n",
              "      <td>...</td>\n",
              "      <td>1700</td>\n",
              "      <td>5600</td>\n",
              "      <td>66</td>\n",
              "      <td>39</td>\n",
              "      <td>74948</td>\n",
              "      <td>39709</td>\n",
              "      <td>21751</td>\n",
              "      <td>600759</td>\n",
              "      <td>178435</td>\n",
              "      <td>89679</td>\n",
              "    </tr>\n",
              "    <tr>\n",
              "      <th>1</th>\n",
              "      <td>2</td>\n",
              "      <td>JAMMU AND KASHMIR</td>\n",
              "      <td>Badgam</td>\n",
              "      <td>753745</td>\n",
              "      <td>398041</td>\n",
              "      <td>355704</td>\n",
              "      <td>335649</td>\n",
              "      <td>214866</td>\n",
              "      <td>162578</td>\n",
              "      <td>52288</td>\n",
              "      <td>...</td>\n",
              "      <td>1489</td>\n",
              "      <td>5559</td>\n",
              "      <td>47</td>\n",
              "      <td>6</td>\n",
              "      <td>66459</td>\n",
              "      <td>41367</td>\n",
              "      <td>27950</td>\n",
              "      <td>503223</td>\n",
              "      <td>160933</td>\n",
              "      <td>88978</td>\n",
              "    </tr>\n",
              "    <tr>\n",
              "      <th>2</th>\n",
              "      <td>3</td>\n",
              "      <td>JAMMU AND KASHMIR</td>\n",
              "      <td>Leh(Ladakh)</td>\n",
              "      <td>133487</td>\n",
              "      <td>78971</td>\n",
              "      <td>54516</td>\n",
              "      <td>93770</td>\n",
              "      <td>75079</td>\n",
              "      <td>53265</td>\n",
              "      <td>21814</td>\n",
              "      <td>...</td>\n",
              "      <td>658</td>\n",
              "      <td>1092</td>\n",
              "      <td>88635</td>\n",
              "      <td>103</td>\n",
              "      <td>16265</td>\n",
              "      <td>8923</td>\n",
              "      <td>6197</td>\n",
              "      <td>70703</td>\n",
              "      <td>41515</td>\n",
              "      <td>21019</td>\n",
              "    </tr>\n",
              "    <tr>\n",
              "      <th>3</th>\n",
              "      <td>4</td>\n",
              "      <td>JAMMU AND KASHMIR</td>\n",
              "      <td>Kargil</td>\n",
              "      <td>140802</td>\n",
              "      <td>77785</td>\n",
              "      <td>63017</td>\n",
              "      <td>86236</td>\n",
              "      <td>51873</td>\n",
              "      <td>39839</td>\n",
              "      <td>12034</td>\n",
              "      <td>...</td>\n",
              "      <td>604</td>\n",
              "      <td>1171</td>\n",
              "      <td>20126</td>\n",
              "      <td>28</td>\n",
              "      <td>16938</td>\n",
              "      <td>9826</td>\n",
              "      <td>3077</td>\n",
              "      <td>87532</td>\n",
              "      <td>35561</td>\n",
              "      <td>17488</td>\n",
              "    </tr>\n",
              "    <tr>\n",
              "      <th>4</th>\n",
              "      <td>5</td>\n",
              "      <td>JAMMU AND KASHMIR</td>\n",
              "      <td>Punch</td>\n",
              "      <td>476835</td>\n",
              "      <td>251899</td>\n",
              "      <td>224936</td>\n",
              "      <td>261724</td>\n",
              "      <td>161393</td>\n",
              "      <td>117677</td>\n",
              "      <td>43716</td>\n",
              "      <td>...</td>\n",
              "      <td>958</td>\n",
              "      <td>11188</td>\n",
              "      <td>83</td>\n",
              "      <td>10</td>\n",
              "      <td>46062</td>\n",
              "      <td>29517</td>\n",
              "      <td>13962</td>\n",
              "      <td>304979</td>\n",
              "      <td>109818</td>\n",
              "      <td>61334</td>\n",
              "    </tr>\n",
              "  </tbody>\n",
              "</table>\n",
              "<p>5 rows × 25 columns</p>\n",
              "</div>\n",
              "    <div class=\"colab-df-buttons\">\n",
              "\n",
              "  <div class=\"colab-df-container\">\n",
              "    <button class=\"colab-df-convert\" onclick=\"convertToInteractive('df-f1b4b5be-bf8c-4cdd-85cf-f7206f31a608')\"\n",
              "            title=\"Convert this dataframe to an interactive table.\"\n",
              "            style=\"display:none;\">\n",
              "\n",
              "  <svg xmlns=\"http://www.w3.org/2000/svg\" height=\"24px\" viewBox=\"0 -960 960 960\">\n",
              "    <path d=\"M120-120v-720h720v720H120Zm60-500h600v-160H180v160Zm220 220h160v-160H400v160Zm0 220h160v-160H400v160ZM180-400h160v-160H180v160Zm440 0h160v-160H620v160ZM180-180h160v-160H180v160Zm440 0h160v-160H620v160Z\"/>\n",
              "  </svg>\n",
              "    </button>\n",
              "\n",
              "  <style>\n",
              "    .colab-df-container {\n",
              "      display:flex;\n",
              "      gap: 12px;\n",
              "    }\n",
              "\n",
              "    .colab-df-convert {\n",
              "      background-color: #E8F0FE;\n",
              "      border: none;\n",
              "      border-radius: 50%;\n",
              "      cursor: pointer;\n",
              "      display: none;\n",
              "      fill: #1967D2;\n",
              "      height: 32px;\n",
              "      padding: 0 0 0 0;\n",
              "      width: 32px;\n",
              "    }\n",
              "\n",
              "    .colab-df-convert:hover {\n",
              "      background-color: #E2EBFA;\n",
              "      box-shadow: 0px 1px 2px rgba(60, 64, 67, 0.3), 0px 1px 3px 1px rgba(60, 64, 67, 0.15);\n",
              "      fill: #174EA6;\n",
              "    }\n",
              "\n",
              "    .colab-df-buttons div {\n",
              "      margin-bottom: 4px;\n",
              "    }\n",
              "\n",
              "    [theme=dark] .colab-df-convert {\n",
              "      background-color: #3B4455;\n",
              "      fill: #D2E3FC;\n",
              "    }\n",
              "\n",
              "    [theme=dark] .colab-df-convert:hover {\n",
              "      background-color: #434B5C;\n",
              "      box-shadow: 0px 1px 3px 1px rgba(0, 0, 0, 0.15);\n",
              "      filter: drop-shadow(0px 1px 2px rgba(0, 0, 0, 0.3));\n",
              "      fill: #FFFFFF;\n",
              "    }\n",
              "  </style>\n",
              "\n",
              "    <script>\n",
              "      const buttonEl =\n",
              "        document.querySelector('#df-f1b4b5be-bf8c-4cdd-85cf-f7206f31a608 button.colab-df-convert');\n",
              "      buttonEl.style.display =\n",
              "        google.colab.kernel.accessAllowed ? 'block' : 'none';\n",
              "\n",
              "      async function convertToInteractive(key) {\n",
              "        const element = document.querySelector('#df-f1b4b5be-bf8c-4cdd-85cf-f7206f31a608');\n",
              "        const dataTable =\n",
              "          await google.colab.kernel.invokeFunction('convertToInteractive',\n",
              "                                                    [key], {});\n",
              "        if (!dataTable) return;\n",
              "\n",
              "        const docLinkHtml = 'Like what you see? Visit the ' +\n",
              "          '<a target=\"_blank\" href=https://colab.research.google.com/notebooks/data_table.ipynb>data table notebook</a>'\n",
              "          + ' to learn more about interactive tables.';\n",
              "        element.innerHTML = '';\n",
              "        dataTable['output_type'] = 'display_data';\n",
              "        await google.colab.output.renderOutput(dataTable, element);\n",
              "        const docLink = document.createElement('div');\n",
              "        docLink.innerHTML = docLinkHtml;\n",
              "        element.appendChild(docLink);\n",
              "      }\n",
              "    </script>\n",
              "  </div>\n",
              "\n",
              "\n",
              "<div id=\"df-f5fb9e0a-67b7-405d-957e-2c7dcde2d4bd\">\n",
              "  <button class=\"colab-df-quickchart\" onclick=\"quickchart('df-f5fb9e0a-67b7-405d-957e-2c7dcde2d4bd')\"\n",
              "            title=\"Suggest charts\"\n",
              "            style=\"display:none;\">\n",
              "\n",
              "<svg xmlns=\"http://www.w3.org/2000/svg\" height=\"24px\"viewBox=\"0 0 24 24\"\n",
              "     width=\"24px\">\n",
              "    <g>\n",
              "        <path d=\"M19 3H5c-1.1 0-2 .9-2 2v14c0 1.1.9 2 2 2h14c1.1 0 2-.9 2-2V5c0-1.1-.9-2-2-2zM9 17H7v-7h2v7zm4 0h-2V7h2v10zm4 0h-2v-4h2v4z\"/>\n",
              "    </g>\n",
              "</svg>\n",
              "  </button>\n",
              "\n",
              "<style>\n",
              "  .colab-df-quickchart {\n",
              "      --bg-color: #E8F0FE;\n",
              "      --fill-color: #1967D2;\n",
              "      --hover-bg-color: #E2EBFA;\n",
              "      --hover-fill-color: #174EA6;\n",
              "      --disabled-fill-color: #AAA;\n",
              "      --disabled-bg-color: #DDD;\n",
              "  }\n",
              "\n",
              "  [theme=dark] .colab-df-quickchart {\n",
              "      --bg-color: #3B4455;\n",
              "      --fill-color: #D2E3FC;\n",
              "      --hover-bg-color: #434B5C;\n",
              "      --hover-fill-color: #FFFFFF;\n",
              "      --disabled-bg-color: #3B4455;\n",
              "      --disabled-fill-color: #666;\n",
              "  }\n",
              "\n",
              "  .colab-df-quickchart {\n",
              "    background-color: var(--bg-color);\n",
              "    border: none;\n",
              "    border-radius: 50%;\n",
              "    cursor: pointer;\n",
              "    display: none;\n",
              "    fill: var(--fill-color);\n",
              "    height: 32px;\n",
              "    padding: 0;\n",
              "    width: 32px;\n",
              "  }\n",
              "\n",
              "  .colab-df-quickchart:hover {\n",
              "    background-color: var(--hover-bg-color);\n",
              "    box-shadow: 0 1px 2px rgba(60, 64, 67, 0.3), 0 1px 3px 1px rgba(60, 64, 67, 0.15);\n",
              "    fill: var(--button-hover-fill-color);\n",
              "  }\n",
              "\n",
              "  .colab-df-quickchart-complete:disabled,\n",
              "  .colab-df-quickchart-complete:disabled:hover {\n",
              "    background-color: var(--disabled-bg-color);\n",
              "    fill: var(--disabled-fill-color);\n",
              "    box-shadow: none;\n",
              "  }\n",
              "\n",
              "  .colab-df-spinner {\n",
              "    border: 2px solid var(--fill-color);\n",
              "    border-color: transparent;\n",
              "    border-bottom-color: var(--fill-color);\n",
              "    animation:\n",
              "      spin 1s steps(1) infinite;\n",
              "  }\n",
              "\n",
              "  @keyframes spin {\n",
              "    0% {\n",
              "      border-color: transparent;\n",
              "      border-bottom-color: var(--fill-color);\n",
              "      border-left-color: var(--fill-color);\n",
              "    }\n",
              "    20% {\n",
              "      border-color: transparent;\n",
              "      border-left-color: var(--fill-color);\n",
              "      border-top-color: var(--fill-color);\n",
              "    }\n",
              "    30% {\n",
              "      border-color: transparent;\n",
              "      border-left-color: var(--fill-color);\n",
              "      border-top-color: var(--fill-color);\n",
              "      border-right-color: var(--fill-color);\n",
              "    }\n",
              "    40% {\n",
              "      border-color: transparent;\n",
              "      border-right-color: var(--fill-color);\n",
              "      border-top-color: var(--fill-color);\n",
              "    }\n",
              "    60% {\n",
              "      border-color: transparent;\n",
              "      border-right-color: var(--fill-color);\n",
              "    }\n",
              "    80% {\n",
              "      border-color: transparent;\n",
              "      border-right-color: var(--fill-color);\n",
              "      border-bottom-color: var(--fill-color);\n",
              "    }\n",
              "    90% {\n",
              "      border-color: transparent;\n",
              "      border-bottom-color: var(--fill-color);\n",
              "    }\n",
              "  }\n",
              "</style>\n",
              "\n",
              "  <script>\n",
              "    async function quickchart(key) {\n",
              "      const quickchartButtonEl =\n",
              "        document.querySelector('#' + key + ' button');\n",
              "      quickchartButtonEl.disabled = true;  // To prevent multiple clicks.\n",
              "      quickchartButtonEl.classList.add('colab-df-spinner');\n",
              "      try {\n",
              "        const charts = await google.colab.kernel.invokeFunction(\n",
              "            'suggestCharts', [key], {});\n",
              "      } catch (error) {\n",
              "        console.error('Error during call to suggestCharts:', error);\n",
              "      }\n",
              "      quickchartButtonEl.classList.remove('colab-df-spinner');\n",
              "      quickchartButtonEl.classList.add('colab-df-quickchart-complete');\n",
              "    }\n",
              "    (() => {\n",
              "      let quickchartButtonEl =\n",
              "        document.querySelector('#df-f5fb9e0a-67b7-405d-957e-2c7dcde2d4bd button');\n",
              "      quickchartButtonEl.style.display =\n",
              "        google.colab.kernel.accessAllowed ? 'block' : 'none';\n",
              "    })();\n",
              "  </script>\n",
              "</div>\n",
              "\n",
              "    </div>\n",
              "  </div>\n"
            ],
            "application/vnd.google.colaboratory.intrinsic+json": {
              "type": "dataframe",
              "variable_name": "df"
            }
          },
          "metadata": {},
          "execution_count": 34
        }
      ]
    },
    {
      "cell_type": "code",
      "source": [
        "#remove null values\n",
        "df.dropna(inplace=True)"
      ],
      "metadata": {
        "id": "PbioBJ-_kTRi"
      },
      "execution_count": 35,
      "outputs": []
    },
    {
      "cell_type": "markdown",
      "source": [
        "# **MAIN WORK**"
      ],
      "metadata": {
        "id": "2ve4cAMgk6aT"
      }
    },
    {
      "cell_type": "code",
      "source": [],
      "metadata": {
        "id": "wCGU3eN_lG1J"
      },
      "execution_count": null,
      "outputs": []
    },
    {
      "cell_type": "markdown",
      "source": [
        "# **OTHER WORKS**"
      ],
      "metadata": {
        "id": "z_3FMtXrk_aI"
      }
    },
    {
      "cell_type": "markdown",
      "source": [
        "## **Employment and Workforce Analytics**"
      ],
      "metadata": {
        "id": "YizqTeBOdhPo"
      }
    },
    {
      "cell_type": "code",
      "source": [
        "import seaborn as sns\n",
        "import matplotlib.pyplot as plt\n",
        "correlation_matrix = df[['Literate', 'Workers', 'Male_Workers', 'Female_Workers', 'Secondary_Education', 'Higher_Education']].corr()\n",
        "sns.heatmap(correlation_matrix, annot=True)\n",
        "plt.show()"
      ],
      "metadata": {
        "colab": {
          "base_uri": "https://localhost:8080/",
          "height": 571
        },
        "id": "V_YqaJrpd1Kq",
        "outputId": "ed6d7ce8-cf7a-4b70-849c-f24339bfc398"
      },
      "execution_count": 36,
      "outputs": [
        {
          "output_type": "display_data",
          "data": {
            "text/plain": [
              "<Figure size 640x480 with 2 Axes>"
            ],
            "image/png": "[encoded data removed]"
          },
          "metadata": {}
        }
      ]
    },
    {
      "cell_type": "markdown",
      "source": [
        "## **Religious Diversity and Distribution**"
      ],
      "metadata": {
        "id": "uD1cGsJoepMK"
      }
    },
    {
      "cell_type": "code",
      "source": [
        "import matplotlib.pyplot as plt\n",
        "religions = ['Hindus', 'Muslims', 'Christians', 'Sikhs', 'Buddhists', 'Jains']\n",
        "df_religion = df.groupby('State_name')[religions].sum()\n",
        "df_religion.plot(kind='bar', stacked=True)\n",
        "plt.xlabel('State')\n",
        "plt.ylabel('Population')\n",
        "plt.title('Religious Distribution by State')\n",
        "plt.show()"
      ],
      "metadata": {
        "colab": {
          "base_uri": "https://localhost:8080/",
          "height": 697
        },
        "id": "SesCUqC5emYn",
        "outputId": "f6238186-fe1a-4e5b-d247-839b8b81ddfc"
      },
      "execution_count": 37,
      "outputs": [
        {
          "output_type": "display_data",
          "data": {
            "text/plain": [
              "<Figure size 640x480 with 1 Axes>"
            ],
            "image/png": "[encoded data removed]"
          },
          "metadata": {}
        }
      ]
    },
    {
      "cell_type": "markdown",
      "source": [
        "## **Interactive Dashboard**"
      ],
      "metadata": {
        "id": "NiAhTBeUfZIm"
      }
    },
    {
      "cell_type": "code",
      "source": [
        "!pip install dash pandas plotly"
      ],
      "metadata": {
        "colab": {
          "base_uri": "https://localhost:8080/"
        },
        "id": "qZtfp9TJfVBO",
        "outputId": "e12b21e8-12a6-4514-ec5a-043719c621dd"
      },
      "execution_count": 7,
      "outputs": [
        {
          "output_type": "stream",
          "name": "stdout",
          "text": [
            "Collecting dash\n",
            "  Downloading dash-2.17.1-py3-none-any.whl (7.5 MB)\n",
            "\u001b[2K     \u001b[90m━━━━━━━━━━━━━━━━━━━━━━━━━━━━━━━━━━━━━━━━\u001b[0m \u001b[32m7.5/7.5 MB\u001b[0m \u001b[31m30.5 MB/s\u001b[0m eta \u001b[36m0:00:00\u001b[0m\n",
            "\u001b[?25hRequirement already satisfied: pandas in /usr/local/lib/python3.10/dist-packages (2.0.3)\n",
            "Requirement already satisfied: plotly in /usr/local/lib/python3.10/dist-packages (5.15.0)\n",
            "Requirement already satisfied: Flask<3.1,>=1.0.4 in /usr/local/lib/python3.10/dist-packages (from dash) (2.2.5)\n",
            "Requirement already satisfied: Werkzeug<3.1 in /usr/local/lib/python3.10/dist-packages (from dash) (3.0.3)\n",
            "Collecting dash-html-components==2.0.0 (from dash)\n",
            "  Downloading dash_html_components-2.0.0-py3-none-any.whl (4.1 kB)\n",
            "Collecting dash-core-components==2.0.0 (from dash)\n",
            "  Downloading dash_core_components-2.0.0-py3-none-any.whl (3.8 kB)\n",
            "Collecting dash-table==5.0.0 (from dash)\n",
            "  Downloading dash_table-5.0.0-py3-none-any.whl (3.9 kB)\n",
            "Requirement already satisfied: importlib-metadata in /usr/local/lib/python3.10/dist-packages (from dash) (8.0.0)\n",
            "Requirement already satisfied: typing-extensions>=4.1.1 in /usr/local/lib/python3.10/dist-packages (from dash) (4.12.2)\n",
            "Requirement already satisfied: requests in /usr/local/lib/python3.10/dist-packages (from dash) (2.31.0)\n",
            "Collecting retrying (from dash)\n",
            "  Downloading retrying-1.3.4-py3-none-any.whl (11 kB)\n",
            "Requirement already satisfied: nest-asyncio in /usr/local/lib/python3.10/dist-packages (from dash) (1.6.0)\n",
            "Requirement already satisfied: setuptools in /usr/local/lib/python3.10/dist-packages (from dash) (67.7.2)\n",
            "Requirement already satisfied: python-dateutil>=2.8.2 in /usr/local/lib/python3.10/dist-packages (from pandas) (2.8.2)\n",
            "Requirement already satisfied: pytz>=2020.1 in /usr/local/lib/python3.10/dist-packages (from pandas) (2023.4)\n",
            "Requirement already satisfied: tzdata>=2022.1 in /usr/local/lib/python3.10/dist-packages (from pandas) (2024.1)\n",
            "Requirement already satisfied: numpy>=1.21.0 in /usr/local/lib/python3.10/dist-packages (from pandas) (1.25.2)\n",
            "Requirement already satisfied: tenacity>=6.2.0 in /usr/local/lib/python3.10/dist-packages (from plotly) (8.4.2)\n",
            "Requirement already satisfied: packaging in /usr/local/lib/python3.10/dist-packages (from plotly) (24.1)\n",
            "Requirement already satisfied: Jinja2>=3.0 in /usr/local/lib/python3.10/dist-packages (from Flask<3.1,>=1.0.4->dash) (3.1.4)\n",
            "Requirement already satisfied: itsdangerous>=2.0 in /usr/local/lib/python3.10/dist-packages (from Flask<3.1,>=1.0.4->dash) (2.2.0)\n",
            "Requirement already satisfied: click>=8.0 in /usr/local/lib/python3.10/dist-packages (from Flask<3.1,>=1.0.4->dash) (8.1.7)\n",
            "Requirement already satisfied: six>=1.5 in /usr/local/lib/python3.10/dist-packages (from python-dateutil>=2.8.2->pandas) (1.16.0)\n",
            "Requirement already satisfied: MarkupSafe>=2.1.1 in /usr/local/lib/python3.10/dist-packages (from Werkzeug<3.1->dash) (2.1.5)\n",
            "Requirement already satisfied: zipp>=0.5 in /usr/local/lib/python3.10/dist-packages (from importlib-metadata->dash) (3.19.2)\n",
            "Requirement already satisfied: charset-normalizer<4,>=2 in /usr/local/lib/python3.10/dist-packages (from requests->dash) (3.3.2)\n",
            "Requirement already satisfied: idna<4,>=2.5 in /usr/local/lib/python3.10/dist-packages (from requests->dash) (3.7)\n",
            "Requirement already satisfied: urllib3<3,>=1.21.1 in /usr/local/lib/python3.10/dist-packages (from requests->dash) (2.0.7)\n",
            "Requirement already satisfied: certifi>=2017.4.17 in /usr/local/lib/python3.10/dist-packages (from requests->dash) (2024.6.2)\n",
            "Installing collected packages: dash-table, dash-html-components, dash-core-components, retrying, dash\n",
            "Successfully installed dash-2.17.1 dash-core-components-2.0.0 dash-html-components-2.0.0 dash-table-5.0.0 retrying-1.3.4\n"
          ]
        }
      ]
    },
    {
      "cell_type": "code",
      "source": [
        "import dash\n",
        "import dash_core_components as dcc\n",
        "import dash_html_components as html\n",
        "import plotly.express as px\n",
        "import pandas as pd\n",
        "\n",
        "# Load your census data\n",
        "df = pd.read_csv(\"https://raw.githubusercontent.com/ultrasage-danz/Census-Data-Analysis/main/Census%2B2011.csv\")\n",
        "\n",
        "app = dash.Dash(__name__)\n",
        "\n",
        "app.layout = html.Div(children=[\n",
        "    html.H1(children=\"Census Data Dashboard\"),\n",
        "\n",
        "    # Dropdown to select state\n",
        "    dcc.Dropdown(\n",
        "        id='state-dropdown',\n",
        "        options=[{'label': i, 'value': i} for i in df['State_name'].unique()],\n",
        "        value=df['State_name'].unique()[0]  # Default value\n",
        "    ),\n",
        "\n",
        "    # Graph to display data\n",
        "    dcc.Graph(id='indicator-graphic'),\n",
        "\n",
        "])\n",
        "\n",
        "# Callback to update graph based on dropdown selection\n",
        "@app.callback(\n",
        "    dash.dependencies.Output('indicator-graphic', 'figure'),\n",
        "    [dash.dependencies.Input('state-dropdown', 'value')]\n",
        ")\n",
        "def update_graph(selected_state):\n",
        "    filtered_df = df[df['State_name'] == selected_state]\n",
        "    fig = px.bar(filtered_df, x='District_name', y='Population')\n",
        "    return fig\n",
        "\n",
        "if __name__ == '__main__':\n",
        "    app.run_server(debug=True)"
      ],
      "metadata": {
        "colab": {
          "base_uri": "https://localhost:8080/",
          "height": 671
        },
        "id": "NFSOGgNnfVh0",
        "outputId": "56730df0-3a56-4eab-d1d8-6d239f820f3d"
      },
      "execution_count": 38,
      "outputs": [
        {
          "output_type": "display_data",
          "data": {
            "text/plain": [
              "<IPython.core.display.Javascript object>"
            ],
            "application/javascript": [
              "(async (port, path, width, height, cache, element) => {\n",
              "    if (!google.colab.kernel.accessAllowed && !cache) {\n",
              "      return;\n",
              "    }\n",
              "    element.appendChild(document.createTextNode(''));\n",
              "    const url = await google.colab.kernel.proxyPort(port, {cache});\n",
              "    const iframe = document.createElement('iframe');\n",
              "    iframe.src = new URL(path, url).toString();\n",
              "    iframe.height = height;\n",
              "    iframe.width = width;\n",
              "    iframe.style.border = 0;\n",
              "    iframe.allow = [\n",
              "        'accelerometer',\n",
              "        'autoplay',\n",
              "        'camera',\n",
              "        'clipboard-read',\n",
              "        'clipboard-write',\n",
              "        'gyroscope',\n",
              "        'magnetometer',\n",
              "        'microphone',\n",
              "        'serial',\n",
              "        'usb',\n",
              "        'xr-spatial-tracking',\n",
              "    ].join('; ');\n",
              "    element.appendChild(iframe);\n",
              "  })(8050, \"/\", \"100%\", 650, false, window.element)"
            ]
          },
          "metadata": {}
        }
      ]
    },
    {
      "cell_type": "markdown",
      "source": [
        "## **Predictive Modeling**"
      ],
      "metadata": {
        "id": "oU3oXN1BhQRo"
      }
    },
    {
      "source": [
        "features = ['Population', 'Workers', 'Male_Workers', 'Female_Workers', 'Secondary_Education', 'Higher_Education']  # Choose relevant features\n",
        "X = df[features]\n",
        "y = df['Literate']"
      ],
      "cell_type": "code",
      "metadata": {
        "id": "UkJb7DGoiBzr"
      },
      "execution_count": 39,
      "outputs": []
    },
    {
      "source": [
        "from sklearn.preprocessing import OneHotEncoder\n",
        "  # ... (Encode categorical features if needed)"
      ],
      "cell_type": "code",
      "metadata": {
        "id": "eKCqLpVtiLbF"
      },
      "execution_count": 40,
      "outputs": []
    },
    {
      "source": [
        "from sklearn.model_selection import train_test_split\n",
        "X_train, X_test, y_train, y_test = train_test_split(X, y, test_size=0.2, random_state=42)"
      ],
      "cell_type": "code",
      "metadata": {
        "id": "uGRGPG3hiM8U"
      },
      "execution_count": 41,
      "outputs": []
    },
    {
      "source": [
        "from sklearn.linear_model import LinearRegression\n",
        "model = LinearRegression()\n",
        "model.fit(X_train, y_train)"
      ],
      "cell_type": "code",
      "metadata": {
        "colab": {
          "base_uri": "https://localhost:8080/",
          "height": 75
        },
        "id": "317-tbbciQUI",
        "outputId": "1bd36cba-ab93-495a-e175-d6686c634752"
      },
      "execution_count": 42,
      "outputs": [
        {
          "output_type": "execute_result",
          "data": {
            "text/plain": [
              "LinearRegression()"
            ],
            "text/html": [
              "<style>#sk-container-id-3 {color: black;background-color: white;}#sk-container-id-3 pre{padding: 0;}#sk-container-id-3 div.sk-toggleable {background-color: white;}#sk-container-id-3 label.sk-toggleable__label {cursor: pointer;display: block;width: 100%;margin-bottom: 0;padding: 0.3em;box-sizing: border-box;text-align: center;}#sk-container-id-3 label.sk-toggleable__label-arrow:before {content: \"▸\";float: left;margin-right: 0.25em;color: #696969;}#sk-container-id-3 label.sk-toggleable__label-arrow:hover:before {color: black;}#sk-container-id-3 div.sk-estimator:hover label.sk-toggleable__label-arrow:before {color: black;}#sk-container-id-3 div.sk-toggleable__content {max-height: 0;max-width: 0;overflow: hidden;text-align: left;background-color: #f0f8ff;}#sk-container-id-3 div.sk-toggleable__content pre {margin: 0.2em;color: black;border-radius: 0.25em;background-color: #f0f8ff;}#sk-container-id-3 input.sk-toggleable__control:checked~div.sk-toggleable__content {max-height: 200px;max-width: 100%;overflow: auto;}#sk-container-id-3 input.sk-toggleable__control:checked~label.sk-toggleable__label-arrow:before {content: \"▾\";}#sk-container-id-3 div.sk-estimator input.sk-toggleable__control:checked~label.sk-toggleable__label {background-color: #d4ebff;}#sk-container-id-3 div.sk-label input.sk-toggleable__control:checked~label.sk-toggleable__label {background-color: #d4ebff;}#sk-container-id-3 input.sk-hidden--visually {border: 0;clip: rect(1px 1px 1px 1px);clip: rect(1px, 1px, 1px, 1px);height: 1px;margin: -1px;overflow: hidden;padding: 0;position: absolute;width: 1px;}#sk-container-id-3 div.sk-estimator {font-family: monospace;background-color: #f0f8ff;border: 1px dotted black;border-radius: 0.25em;box-sizing: border-box;margin-bottom: 0.5em;}#sk-container-id-3 div.sk-estimator:hover {background-color: #d4ebff;}#sk-container-id-3 div.sk-parallel-item::after {content: \"\";width: 100%;border-bottom: 1px solid gray;flex-grow: 1;}#sk-container-id-3 div.sk-label:hover label.sk-toggleable__label {background-color: #d4ebff;}#sk-container-id-3 div.sk-serial::before {content: \"\";position: absolute;border-left: 1px solid gray;box-sizing: border-box;top: 0;bottom: 0;left: 50%;z-index: 0;}#sk-container-id-3 div.sk-serial {display: flex;flex-direction: column;align-items: center;background-color: white;padding-right: 0.2em;padding-left: 0.2em;position: relative;}#sk-container-id-3 div.sk-item {position: relative;z-index: 1;}#sk-container-id-3 div.sk-parallel {display: flex;align-items: stretch;justify-content: center;background-color: white;position: relative;}#sk-container-id-3 div.sk-item::before, #sk-container-id-3 div.sk-parallel-item::before {content: \"\";position: absolute;border-left: 1px solid gray;box-sizing: border-box;top: 0;bottom: 0;left: 50%;z-index: -1;}#sk-container-id-3 div.sk-parallel-item {display: flex;flex-direction: column;z-index: 1;position: relative;background-color: white;}#sk-container-id-3 div.sk-parallel-item:first-child::after {align-self: flex-end;width: 50%;}#sk-container-id-3 div.sk-parallel-item:last-child::after {align-self: flex-start;width: 50%;}#sk-container-id-3 div.sk-parallel-item:only-child::after {width: 0;}#sk-container-id-3 div.sk-dashed-wrapped {border: 1px dashed gray;margin: 0 0.4em 0.5em 0.4em;box-sizing: border-box;padding-bottom: 0.4em;background-color: white;}#sk-container-id-3 div.sk-label label {font-family: monospace;font-weight: bold;display: inline-block;line-height: 1.2em;}#sk-container-id-3 div.sk-label-container {text-align: center;}#sk-container-id-3 div.sk-container {/* jupyter's `normalize.less` sets `[hidden] { display: none; }` but bootstrap.min.css set `[hidden] { display: none !important; }` so we also need the `!important` here to be able to override the default hidden behavior on the sphinx rendered scikit-learn.org. See: https://github.com/scikit-learn/scikit-learn/issues/21755 */display: inline-block !important;position: relative;}#sk-container-id-3 div.sk-text-repr-fallback {display: none;}</style><div id=\"sk-container-id-3\" class=\"sk-top-container\"><div class=\"sk-text-repr-fallback\"><pre>LinearRegression()</pre><b>In a Jupyter environment, please rerun this cell to show the HTML representation or trust the notebook. <br />On GitHub, the HTML representation is unable to render, please try loading this page with nbviewer.org.</b></div><div class=\"sk-container\" hidden><div class=\"sk-item\"><div class=\"sk-estimator sk-toggleable\"><input class=\"sk-toggleable__control sk-hidden--visually\" id=\"sk-estimator-id-3\" type=\"checkbox\" checked><label for=\"sk-estimator-id-3\" class=\"sk-toggleable__label sk-toggleable__label-arrow\">LinearRegression</label><div class=\"sk-toggleable__content\"><pre>LinearRegression()</pre></div></div></div></div></div>"
            ]
          },
          "metadata": {},
          "execution_count": 42
        }
      ]
    },
    {
      "source": [
        "y_pred = model.predict(X_test)"
      ],
      "cell_type": "code",
      "metadata": {
        "id": "SatEkzbWiVRa"
      },
      "execution_count": 43,
      "outputs": []
    },
    {
      "source": [
        "from sklearn.metrics import mean_squared_error, r2_score\n",
        "mse = mean_squared_error(y_test, y_pred)\n",
        "r2 = r2_score(y_test, y_pred)\n",
        "print(\"Mean Squared Error:\", mse)\n",
        "print(\"R-squared:\", r2)"
      ],
      "cell_type": "code",
      "metadata": {
        "colab": {
          "base_uri": "https://localhost:8080/"
        },
        "id": "1egI3bw-iWHU",
        "outputId": "8ac81352-c822-4594-da93-e4331f596e05"
      },
      "execution_count": 44,
      "outputs": [
        {
          "output_type": "stream",
          "name": "stdout",
          "text": [
            "Mean Squared Error: 9812190737.768377\n",
            "R-squared: 0.9901236043343027\n"
          ]
        }
      ]
    },
    {
      "cell_type": "markdown",
      "source": [
        "## **Clustering and Segmentation**"
      ],
      "metadata": {
        "id": "ktVjKTc6hW2U"
      }
    },
    {
      "cell_type": "code",
      "source": [],
      "metadata": {
        "id": "huI64xwbfWSO"
      },
      "execution_count": null,
      "outputs": []
    },
    {
      "source": [
        "features = ['Population', 'Literate', 'Workers', 'Male_Workers', 'Female_Workers', 'Secondary_Education', 'Higher_Education'] # Choose features for clustering\n",
        "X = df[features]"
      ],
      "cell_type": "code",
      "metadata": {
        "id": "eFLPZkvbiqZK"
      },
      "execution_count": 45,
      "outputs": []
    },
    {
      "source": [
        "from sklearn.preprocessing import StandardScaler\n",
        "scaler = StandardScaler()\n",
        "X_scaled = scaler.fit_transform(X)"
      ],
      "cell_type": "code",
      "metadata": {
        "id": "wHCjshgGirNk"
      },
      "execution_count": 46,
      "outputs": []
    },
    {
      "source": [
        "from sklearn.cluster import KMeans\n",
        "kmeans = KMeans(n_clusters=4, random_state=42) # Choose an appropriate number of clusters\n",
        "kmeans.fit(X_scaled)"
      ],
      "cell_type": "code",
      "metadata": {
        "colab": {
          "base_uri": "https://localhost:8080/",
          "height": 164
        },
        "id": "xwwlH1LRisBv",
        "outputId": "cedb81fd-b3fc-4b47-bc71-6b649555e809"
      },
      "execution_count": 47,
      "outputs": [
        {
          "output_type": "stream",
          "name": "stderr",
          "text": [
            "/usr/local/lib/python3.10/dist-packages/sklearn/cluster/_kmeans.py:870: FutureWarning:\n",
            "\n",
            "The default value of `n_init` will change from 10 to 'auto' in 1.4. Set the value of `n_init` explicitly to suppress the warning\n",
            "\n"
          ]
        },
        {
          "output_type": "execute_result",
          "data": {
            "text/plain": [
              "KMeans(n_clusters=4, random_state=42)"
            ],
            "text/html": [
              "<style>#sk-container-id-4 {color: black;background-color: white;}#sk-container-id-4 pre{padding: 0;}#sk-container-id-4 div.sk-toggleable {background-color: white;}#sk-container-id-4 label.sk-toggleable__label {cursor: pointer;display: block;width: 100%;margin-bottom: 0;padding: 0.3em;box-sizing: border-box;text-align: center;}#sk-container-id-4 label.sk-toggleable__label-arrow:before {content: \"▸\";float: left;margin-right: 0.25em;color: #696969;}#sk-container-id-4 label.sk-toggleable__label-arrow:hover:before {color: black;}#sk-container-id-4 div.sk-estimator:hover label.sk-toggleable__label-arrow:before {color: black;}#sk-container-id-4 div.sk-toggleable__content {max-height: 0;max-width: 0;overflow: hidden;text-align: left;background-color: #f0f8ff;}#sk-container-id-4 div.sk-toggleable__content pre {margin: 0.2em;color: black;border-radius: 0.25em;background-color: #f0f8ff;}#sk-container-id-4 input.sk-toggleable__control:checked~div.sk-toggleable__content {max-height: 200px;max-width: 100%;overflow: auto;}#sk-container-id-4 input.sk-toggleable__control:checked~label.sk-toggleable__label-arrow:before {content: \"▾\";}#sk-container-id-4 div.sk-estimator input.sk-toggleable__control:checked~label.sk-toggleable__label {background-color: #d4ebff;}#sk-container-id-4 div.sk-label input.sk-toggleable__control:checked~label.sk-toggleable__label {background-color: #d4ebff;}#sk-container-id-4 input.sk-hidden--visually {border: 0;clip: rect(1px 1px 1px 1px);clip: rect(1px, 1px, 1px, 1px);height: 1px;margin: -1px;overflow: hidden;padding: 0;position: absolute;width: 1px;}#sk-container-id-4 div.sk-estimator {font-family: monospace;background-color: #f0f8ff;border: 1px dotted black;border-radius: 0.25em;box-sizing: border-box;margin-bottom: 0.5em;}#sk-container-id-4 div.sk-estimator:hover {background-color: #d4ebff;}#sk-container-id-4 div.sk-parallel-item::after {content: \"\";width: 100%;border-bottom: 1px solid gray;flex-grow: 1;}#sk-container-id-4 div.sk-label:hover label.sk-toggleable__label {background-color: #d4ebff;}#sk-container-id-4 div.sk-serial::before {content: \"\";position: absolute;border-left: 1px solid gray;box-sizing: border-box;top: 0;bottom: 0;left: 50%;z-index: 0;}#sk-container-id-4 div.sk-serial {display: flex;flex-direction: column;align-items: center;background-color: white;padding-right: 0.2em;padding-left: 0.2em;position: relative;}#sk-container-id-4 div.sk-item {position: relative;z-index: 1;}#sk-container-id-4 div.sk-parallel {display: flex;align-items: stretch;justify-content: center;background-color: white;position: relative;}#sk-container-id-4 div.sk-item::before, #sk-container-id-4 div.sk-parallel-item::before {content: \"\";position: absolute;border-left: 1px solid gray;box-sizing: border-box;top: 0;bottom: 0;left: 50%;z-index: -1;}#sk-container-id-4 div.sk-parallel-item {display: flex;flex-direction: column;z-index: 1;position: relative;background-color: white;}#sk-container-id-4 div.sk-parallel-item:first-child::after {align-self: flex-end;width: 50%;}#sk-container-id-4 div.sk-parallel-item:last-child::after {align-self: flex-start;width: 50%;}#sk-container-id-4 div.sk-parallel-item:only-child::after {width: 0;}#sk-container-id-4 div.sk-dashed-wrapped {border: 1px dashed gray;margin: 0 0.4em 0.5em 0.4em;box-sizing: border-box;padding-bottom: 0.4em;background-color: white;}#sk-container-id-4 div.sk-label label {font-family: monospace;font-weight: bold;display: inline-block;line-height: 1.2em;}#sk-container-id-4 div.sk-label-container {text-align: center;}#sk-container-id-4 div.sk-container {/* jupyter's `normalize.less` sets `[hidden] { display: none; }` but bootstrap.min.css set `[hidden] { display: none !important; }` so we also need the `!important` here to be able to override the default hidden behavior on the sphinx rendered scikit-learn.org. See: https://github.com/scikit-learn/scikit-learn/issues/21755 */display: inline-block !important;position: relative;}#sk-container-id-4 div.sk-text-repr-fallback {display: none;}</style><div id=\"sk-container-id-4\" class=\"sk-top-container\"><div class=\"sk-text-repr-fallback\"><pre>KMeans(n_clusters=4, random_state=42)</pre><b>In a Jupyter environment, please rerun this cell to show the HTML representation or trust the notebook. <br />On GitHub, the HTML representation is unable to render, please try loading this page with nbviewer.org.</b></div><div class=\"sk-container\" hidden><div class=\"sk-item\"><div class=\"sk-estimator sk-toggleable\"><input class=\"sk-toggleable__control sk-hidden--visually\" id=\"sk-estimator-id-4\" type=\"checkbox\" checked><label for=\"sk-estimator-id-4\" class=\"sk-toggleable__label sk-toggleable__label-arrow\">KMeans</label><div class=\"sk-toggleable__content\"><pre>KMeans(n_clusters=4, random_state=42)</pre></div></div></div></div></div>"
            ]
          },
          "metadata": {},
          "execution_count": 47
        }
      ]
    },
    {
      "source": [
        "df['cluster'] = kmeans.labels_"
      ],
      "cell_type": "code",
      "metadata": {
        "id": "Uxl-h3wdisj1"
      },
      "execution_count": 48,
      "outputs": []
    },
    {
      "source": [
        "df.groupby('cluster')[features].mean() # Examine mean feature values for each cluster"
      ],
      "cell_type": "code",
      "metadata": {
        "colab": {
          "base_uri": "https://localhost:8080/",
          "height": 226
        },
        "id": "DPEd9ok_itJE",
        "outputId": "e80820b9-a5e0-493c-c7c0-06f3d8693e9d"
      },
      "execution_count": 49,
      "outputs": [
        {
          "output_type": "execute_result",
          "data": {
            "text/plain": [
              "           Population      Literate       Workers  Male_Workers  \\\n",
              "cluster                                                           \n",
              "0        8.645404e+05  5.230176e+05  3.515849e+05  2.357733e+05   \n",
              "1        4.427002e+06  2.966997e+06  1.774052e+06  1.238687e+06   \n",
              "2        2.471784e+06  1.502616e+06  9.657536e+05  6.635631e+05   \n",
              "3        9.895570e+06  7.619068e+06  4.019066e+06  3.035562e+06   \n",
              "\n",
              "         Female_Workers  Secondary_Education  Higher_Education  \n",
              "cluster                                                         \n",
              "0         115811.584302         8.486359e+04      51376.520349  \n",
              "1         535364.364865         5.424199e+05     324721.081081  \n",
              "2         302190.433180         2.481459e+05     151433.133641  \n",
              "3         983504.200000         1.617429e+06     981445.600000  "
            ],
            "text/html": [
              "\n",
              "  <div id=\"df-4a890cab-d5a7-4907-9014-d80ce07e189e\" class=\"colab-df-container\">\n",
              "    <div>\n",
              "<style scoped>\n",
              "    .dataframe tbody tr th:only-of-type {\n",
              "        vertical-align: middle;\n",
              "    }\n",
              "\n",
              "    .dataframe tbody tr th {\n",
              "        vertical-align: top;\n",
              "    }\n",
              "\n",
              "    .dataframe thead th {\n",
              "        text-align: right;\n",
              "    }\n",
              "</style>\n",
              "<table border=\"1\" class=\"dataframe\">\n",
              "  <thead>\n",
              "    <tr style=\"text-align: right;\">\n",
              "      <th></th>\n",
              "      <th>Population</th>\n",
              "      <th>Literate</th>\n",
              "      <th>Workers</th>\n",
              "      <th>Male_Workers</th>\n",
              "      <th>Female_Workers</th>\n",
              "      <th>Secondary_Education</th>\n",
              "      <th>Higher_Education</th>\n",
              "    </tr>\n",
              "    <tr>\n",
              "      <th>cluster</th>\n",
              "      <th></th>\n",
              "      <th></th>\n",
              "      <th></th>\n",
              "      <th></th>\n",
              "      <th></th>\n",
              "      <th></th>\n",
              "      <th></th>\n",
              "    </tr>\n",
              "  </thead>\n",
              "  <tbody>\n",
              "    <tr>\n",
              "      <th>0</th>\n",
              "      <td>8.645404e+05</td>\n",
              "      <td>5.230176e+05</td>\n",
              "      <td>3.515849e+05</td>\n",
              "      <td>2.357733e+05</td>\n",
              "      <td>115811.584302</td>\n",
              "      <td>8.486359e+04</td>\n",
              "      <td>51376.520349</td>\n",
              "    </tr>\n",
              "    <tr>\n",
              "      <th>1</th>\n",
              "      <td>4.427002e+06</td>\n",
              "      <td>2.966997e+06</td>\n",
              "      <td>1.774052e+06</td>\n",
              "      <td>1.238687e+06</td>\n",
              "      <td>535364.364865</td>\n",
              "      <td>5.424199e+05</td>\n",
              "      <td>324721.081081</td>\n",
              "    </tr>\n",
              "    <tr>\n",
              "      <th>2</th>\n",
              "      <td>2.471784e+06</td>\n",
              "      <td>1.502616e+06</td>\n",
              "      <td>9.657536e+05</td>\n",
              "      <td>6.635631e+05</td>\n",
              "      <td>302190.433180</td>\n",
              "      <td>2.481459e+05</td>\n",
              "      <td>151433.133641</td>\n",
              "    </tr>\n",
              "    <tr>\n",
              "      <th>3</th>\n",
              "      <td>9.895570e+06</td>\n",
              "      <td>7.619068e+06</td>\n",
              "      <td>4.019066e+06</td>\n",
              "      <td>3.035562e+06</td>\n",
              "      <td>983504.200000</td>\n",
              "      <td>1.617429e+06</td>\n",
              "      <td>981445.600000</td>\n",
              "    </tr>\n",
              "  </tbody>\n",
              "</table>\n",
              "</div>\n",
              "    <div class=\"colab-df-buttons\">\n",
              "\n",
              "  <div class=\"colab-df-container\">\n",
              "    <button class=\"colab-df-convert\" onclick=\"convertToInteractive('df-4a890cab-d5a7-4907-9014-d80ce07e189e')\"\n",
              "            title=\"Convert this dataframe to an interactive table.\"\n",
              "            style=\"display:none;\">\n",
              "\n",
              "  <svg xmlns=\"http://www.w3.org/2000/svg\" height=\"24px\" viewBox=\"0 -960 960 960\">\n",
              "    <path d=\"M120-120v-720h720v720H120Zm60-500h600v-160H180v160Zm220 220h160v-160H400v160Zm0 220h160v-160H400v160ZM180-400h160v-160H180v160Zm440 0h160v-160H620v160ZM180-180h160v-160H180v160Zm440 0h160v-160H620v160Z\"/>\n",
              "  </svg>\n",
              "    </button>\n",
              "\n",
              "  <style>\n",
              "    .colab-df-container {\n",
              "      display:flex;\n",
              "      gap: 12px;\n",
              "    }\n",
              "\n",
              "    .colab-df-convert {\n",
              "      background-color: #E8F0FE;\n",
              "      border: none;\n",
              "      border-radius: 50%;\n",
              "      cursor: pointer;\n",
              "      display: none;\n",
              "      fill: #1967D2;\n",
              "      height: 32px;\n",
              "      padding: 0 0 0 0;\n",
              "      width: 32px;\n",
              "    }\n",
              "\n",
              "    .colab-df-convert:hover {\n",
              "      background-color: #E2EBFA;\n",
              "      box-shadow: 0px 1px 2px rgba(60, 64, 67, 0.3), 0px 1px 3px 1px rgba(60, 64, 67, 0.15);\n",
              "      fill: #174EA6;\n",
              "    }\n",
              "\n",
              "    .colab-df-buttons div {\n",
              "      margin-bottom: 4px;\n",
              "    }\n",
              "\n",
              "    [theme=dark] .colab-df-convert {\n",
              "      background-color: #3B4455;\n",
              "      fill: #D2E3FC;\n",
              "    }\n",
              "\n",
              "    [theme=dark] .colab-df-convert:hover {\n",
              "      background-color: #434B5C;\n",
              "      box-shadow: 0px 1px 3px 1px rgba(0, 0, 0, 0.15);\n",
              "      filter: drop-shadow(0px 1px 2px rgba(0, 0, 0, 0.3));\n",
              "      fill: #FFFFFF;\n",
              "    }\n",
              "  </style>\n",
              "\n",
              "    <script>\n",
              "      const buttonEl =\n",
              "        document.querySelector('#df-4a890cab-d5a7-4907-9014-d80ce07e189e button.colab-df-convert');\n",
              "      buttonEl.style.display =\n",
              "        google.colab.kernel.accessAllowed ? 'block' : 'none';\n",
              "\n",
              "      async function convertToInteractive(key) {\n",
              "        const element = document.querySelector('#df-4a890cab-d5a7-4907-9014-d80ce07e189e');\n",
              "        const dataTable =\n",
              "          await google.colab.kernel.invokeFunction('convertToInteractive',\n",
              "                                                    [key], {});\n",
              "        if (!dataTable) return;\n",
              "\n",
              "        const docLinkHtml = 'Like what you see? Visit the ' +\n",
              "          '<a target=\"_blank\" href=https://colab.research.google.com/notebooks/data_table.ipynb>data table notebook</a>'\n",
              "          + ' to learn more about interactive tables.';\n",
              "        element.innerHTML = '';\n",
              "        dataTable['output_type'] = 'display_data';\n",
              "        await google.colab.output.renderOutput(dataTable, element);\n",
              "        const docLink = document.createElement('div');\n",
              "        docLink.innerHTML = docLinkHtml;\n",
              "        element.appendChild(docLink);\n",
              "      }\n",
              "    </script>\n",
              "  </div>\n",
              "\n",
              "\n",
              "<div id=\"df-d4e3ddf5-dbbb-4f01-9bbb-e8035b0e6de2\">\n",
              "  <button class=\"colab-df-quickchart\" onclick=\"quickchart('df-d4e3ddf5-dbbb-4f01-9bbb-e8035b0e6de2')\"\n",
              "            title=\"Suggest charts\"\n",
              "            style=\"display:none;\">\n",
              "\n",
              "<svg xmlns=\"http://www.w3.org/2000/svg\" height=\"24px\"viewBox=\"0 0 24 24\"\n",
              "     width=\"24px\">\n",
              "    <g>\n",
              "        <path d=\"M19 3H5c-1.1 0-2 .9-2 2v14c0 1.1.9 2 2 2h14c1.1 0 2-.9 2-2V5c0-1.1-.9-2-2-2zM9 17H7v-7h2v7zm4 0h-2V7h2v10zm4 0h-2v-4h2v4z\"/>\n",
              "    </g>\n",
              "</svg>\n",
              "  </button>\n",
              "\n",
              "<style>\n",
              "  .colab-df-quickchart {\n",
              "      --bg-color: #E8F0FE;\n",
              "      --fill-color: #1967D2;\n",
              "      --hover-bg-color: #E2EBFA;\n",
              "      --hover-fill-color: #174EA6;\n",
              "      --disabled-fill-color: #AAA;\n",
              "      --disabled-bg-color: #DDD;\n",
              "  }\n",
              "\n",
              "  [theme=dark] .colab-df-quickchart {\n",
              "      --bg-color: #3B4455;\n",
              "      --fill-color: #D2E3FC;\n",
              "      --hover-bg-color: #434B5C;\n",
              "      --hover-fill-color: #FFFFFF;\n",
              "      --disabled-bg-color: #3B4455;\n",
              "      --disabled-fill-color: #666;\n",
              "  }\n",
              "\n",
              "  .colab-df-quickchart {\n",
              "    background-color: var(--bg-color);\n",
              "    border: none;\n",
              "    border-radius: 50%;\n",
              "    cursor: pointer;\n",
              "    display: none;\n",
              "    fill: var(--fill-color);\n",
              "    height: 32px;\n",
              "    padding: 0;\n",
              "    width: 32px;\n",
              "  }\n",
              "\n",
              "  .colab-df-quickchart:hover {\n",
              "    background-color: var(--hover-bg-color);\n",
              "    box-shadow: 0 1px 2px rgba(60, 64, 67, 0.3), 0 1px 3px 1px rgba(60, 64, 67, 0.15);\n",
              "    fill: var(--button-hover-fill-color);\n",
              "  }\n",
              "\n",
              "  .colab-df-quickchart-complete:disabled,\n",
              "  .colab-df-quickchart-complete:disabled:hover {\n",
              "    background-color: var(--disabled-bg-color);\n",
              "    fill: var(--disabled-fill-color);\n",
              "    box-shadow: none;\n",
              "  }\n",
              "\n",
              "  .colab-df-spinner {\n",
              "    border: 2px solid var(--fill-color);\n",
              "    border-color: transparent;\n",
              "    border-bottom-color: var(--fill-color);\n",
              "    animation:\n",
              "      spin 1s steps(1) infinite;\n",
              "  }\n",
              "\n",
              "  @keyframes spin {\n",
              "    0% {\n",
              "      border-color: transparent;\n",
              "      border-bottom-color: var(--fill-color);\n",
              "      border-left-color: var(--fill-color);\n",
              "    }\n",
              "    20% {\n",
              "      border-color: transparent;\n",
              "      border-left-color: var(--fill-color);\n",
              "      border-top-color: var(--fill-color);\n",
              "    }\n",
              "    30% {\n",
              "      border-color: transparent;\n",
              "      border-left-color: var(--fill-color);\n",
              "      border-top-color: var(--fill-color);\n",
              "      border-right-color: var(--fill-color);\n",
              "    }\n",
              "    40% {\n",
              "      border-color: transparent;\n",
              "      border-right-color: var(--fill-color);\n",
              "      border-top-color: var(--fill-color);\n",
              "    }\n",
              "    60% {\n",
              "      border-color: transparent;\n",
              "      border-right-color: var(--fill-color);\n",
              "    }\n",
              "    80% {\n",
              "      border-color: transparent;\n",
              "      border-right-color: var(--fill-color);\n",
              "      border-bottom-color: var(--fill-color);\n",
              "    }\n",
              "    90% {\n",
              "      border-color: transparent;\n",
              "      border-bottom-color: var(--fill-color);\n",
              "    }\n",
              "  }\n",
              "</style>\n",
              "\n",
              "  <script>\n",
              "    async function quickchart(key) {\n",
              "      const quickchartButtonEl =\n",
              "        document.querySelector('#' + key + ' button');\n",
              "      quickchartButtonEl.disabled = true;  // To prevent multiple clicks.\n",
              "      quickchartButtonEl.classList.add('colab-df-spinner');\n",
              "      try {\n",
              "        const charts = await google.colab.kernel.invokeFunction(\n",
              "            'suggestCharts', [key], {});\n",
              "      } catch (error) {\n",
              "        console.error('Error during call to suggestCharts:', error);\n",
              "      }\n",
              "      quickchartButtonEl.classList.remove('colab-df-spinner');\n",
              "      quickchartButtonEl.classList.add('colab-df-quickchart-complete');\n",
              "    }\n",
              "    (() => {\n",
              "      let quickchartButtonEl =\n",
              "        document.querySelector('#df-d4e3ddf5-dbbb-4f01-9bbb-e8035b0e6de2 button');\n",
              "      quickchartButtonEl.style.display =\n",
              "        google.colab.kernel.accessAllowed ? 'block' : 'none';\n",
              "    })();\n",
              "  </script>\n",
              "</div>\n",
              "\n",
              "    </div>\n",
              "  </div>\n"
            ],
            "application/vnd.google.colaboratory.intrinsic+json": {
              "type": "dataframe",
              "summary": "{\n  \"name\": \"df\",\n  \"rows\": 4,\n  \"fields\": [\n    {\n      \"column\": \"cluster\",\n      \"properties\": {\n        \"dtype\": \"int32\",\n        \"num_unique_values\": 4,\n        \"samples\": [\n          1,\n          3,\n          0\n        ],\n        \"semantic_type\": \"\",\n        \"description\": \"\"\n      }\n    },\n    {\n      \"column\": \"Population\",\n      \"properties\": {\n        \"dtype\": \"number\",\n        \"std\": 3933558.3627031595,\n        \"min\": 864540.3720930233,\n        \"max\": 9895570.0,\n        \"num_unique_values\": 4,\n        \"samples\": [\n          4427002.189189189,\n          9895570.0,\n          864540.3720930233\n        ],\n        \"semantic_type\": \"\",\n        \"description\": \"\"\n      }\n    },\n    {\n      \"column\": \"Literate\",\n      \"properties\": {\n        \"dtype\": \"number\",\n        \"std\": 3142235.511192601,\n        \"min\": 523017.5901162791,\n        \"max\": 7619067.6,\n        \"num_unique_values\": 4,\n        \"samples\": [\n          2966996.8513513515,\n          7619067.6,\n          523017.5901162791\n        ],\n        \"semantic_type\": \"\",\n        \"description\": \"\"\n      }\n    },\n    {\n      \"column\": \"Workers\",\n      \"properties\": {\n        \"dtype\": \"number\",\n        \"std\": 1603828.5416052938,\n        \"min\": 351584.87790697673,\n        \"max\": 4019066.4,\n        \"num_unique_values\": 4,\n        \"samples\": [\n          1774051.5405405406,\n          4019066.4,\n          351584.87790697673\n        ],\n        \"semantic_type\": \"\",\n        \"description\": \"\"\n      }\n    },\n    {\n      \"column\": \"Male_Workers\",\n      \"properties\": {\n        \"dtype\": \"number\",\n        \"std\": 1231989.0898475463,\n        \"min\": 235773.29360465117,\n        \"max\": 3035562.2,\n        \"num_unique_values\": 4,\n        \"samples\": [\n          1238687.1756756757,\n          3035562.2,\n          235773.29360465117\n        ],\n        \"semantic_type\": \"\",\n        \"description\": \"\"\n      }\n    },\n    {\n      \"column\": \"Female_Workers\",\n      \"properties\": {\n        \"dtype\": \"number\",\n        \"std\": 374504.1087262574,\n        \"min\": 115811.58430232559,\n        \"max\": 983504.2,\n        \"num_unique_values\": 4,\n        \"samples\": [\n          535364.3648648649,\n          983504.2,\n          115811.58430232559\n        ],\n        \"semantic_type\": \"\",\n        \"description\": \"\"\n      }\n    },\n    {\n      \"column\": \"Secondary_Education\",\n      \"properties\": {\n        \"dtype\": \"number\",\n        \"std\": 689320.721452666,\n        \"min\": 84863.59011627907,\n        \"max\": 1617429.4,\n        \"num_unique_values\": 4,\n        \"samples\": [\n          542419.9054054054,\n          1617429.4,\n          84863.59011627907\n        ],\n        \"semantic_type\": \"\",\n        \"description\": \"\"\n      }\n    },\n    {\n      \"column\": \"Higher_Education\",\n      \"properties\": {\n        \"dtype\": \"number\",\n        \"std\": 418329.37266963074,\n        \"min\": 51376.520348837206,\n        \"max\": 981445.6,\n        \"num_unique_values\": 4,\n        \"samples\": [\n          324721.08108108107,\n          981445.6,\n          51376.520348837206\n        ],\n        \"semantic_type\": \"\",\n        \"description\": \"\"\n      }\n    }\n  ]\n}"
            }
          },
          "metadata": {},
          "execution_count": 49
        }
      ]
    },
    {
      "source": [
        "import matplotlib.pyplot as plt\n",
        "plt.scatter(df['Literate'], df['Workers'], c=df['cluster'])\n",
        "plt.xlabel('Literacy Rate')\n",
        "plt.ylabel('Worker Participation')\n",
        "plt.title('Clustering of Districts')\n",
        "plt.show()"
      ],
      "cell_type": "code",
      "metadata": {
        "colab": {
          "base_uri": "https://localhost:8080/",
          "height": 472
        },
        "id": "pzugsmJJivt2",
        "outputId": "1923a826-a08b-4009-ddb1-917d219e11f5"
      },
      "execution_count": 50,
      "outputs": [
        {
          "output_type": "display_data",
          "data": {
            "text/plain": [
              "<Figure size 640x480 with 1 Axes>"
            ],
            "image/png": "[encoded data removed]"
          },
          "metadata": {}
        }
      ]
    },
    {
      "cell_type": "markdown",
      "source": [
        "## **Anomaly Detection**"
      ],
      "metadata": {
        "id": "o38fQ0mKhaHd"
      }
    },
    {
      "cell_type": "code",
      "source": [
        "#remove null values\n",
        "df.dropna(inplace=True)"
      ],
      "metadata": {
        "id": "IfYE3qjAfWmC"
      },
      "execution_count": 51,
      "outputs": []
    },
    {
      "source": [
        "features = ['Population', 'Literate', 'Workers', 'Male_Workers', 'Female_Workers', 'Secondary_Education', 'Higher_Education'] # Choose features for anomaly detection\n",
        "X = df[features]"
      ],
      "cell_type": "code",
      "metadata": {
        "id": "c3A93gvejq3b"
      },
      "execution_count": 25,
      "outputs": []
    },
    {
      "source": [
        "from sklearn.preprocessing import StandardScaler\n",
        "scaler = StandardScaler()\n",
        "X_scaled = scaler.fit_transform(X)"
      ],
      "cell_type": "code",
      "metadata": {
        "id": "lDiXYLcdjrwz"
      },
      "execution_count": 26,
      "outputs": []
    },
    {
      "source": [
        "from sklearn.ensemble import IsolationForest\n",
        "model = IsolationForest(contamination=0.05, random_state=42) # Adjust contamination as needed\n",
        "model.fit(X_scaled)\n",
        "df['anomaly_score'] = model.decision_function(X_scaled)\n",
        "df['anomaly'] = model.predict(X_scaled) # -1 indicates anomaly"
      ],
      "cell_type": "code",
      "metadata": {
        "id": "JIuvlcbdjsdK"
      },
      "execution_count": 27,
      "outputs": []
    },
    {
      "source": [
        "from sklearn.svm import OneClassSVM\n",
        "model = OneClassSVM(nu=0.05) # Adjust nu as needed\n",
        "model.fit(X_scaled)\n",
        "df['anomaly_score'] = model.decision_function(X_scaled)\n",
        "df['anomaly'] = model.predict(X_scaled) # -1 indicates anomaly"
      ],
      "cell_type": "code",
      "metadata": {
        "id": "3HtMSjIpjs_M"
      },
      "execution_count": 28,
      "outputs": []
    },
    {
      "source": [
        "from sklearn.neighbors import LocalOutlierFactor\n",
        "model = LocalOutlierFactor(n_neighbors=20, contamination=0.05) # Adjust parameters as needed\n",
        "df['anomaly'] = model.fit_predict(X_scaled) # -1 indicates anomaly"
      ],
      "cell_type": "code",
      "metadata": {
        "id": "mVRX2drmjteS"
      },
      "execution_count": 29,
      "outputs": []
    },
    {
      "source": [
        "anomalies = df[df['anomaly'] == -1]\n",
        "print(anomalies)"
      ],
      "cell_type": "code",
      "metadata": {
        "colab": {
          "base_uri": "https://localhost:8080/"
        },
        "id": "RCsqXeJIjuLN",
        "outputId": "420f3cd0-d675-48af-d7ff-811a88c45a40"
      },
      "execution_count": 30,
      "outputs": [
        {
          "output_type": "stream",
          "name": "stdout",
          "text": [
            "     District_code         State_name               District_name  Population  \\\n",
            "21              22  JAMMU AND KASHMIR                       Samba      318898   \n",
            "26              27   HIMACHAL PRADESH                       Mandi      999777   \n",
            "91              92       NCT OF DELHI                  North East     2241624   \n",
            "95              96       NCT OF DELHI                        West     2543243   \n",
            "96              97       NCT OF DELHI                  South West     2292958   \n",
            "115            116          RAJASTHAN                       Jalor     1828730   \n",
            "124            125          RAJASTHAN                    Banswara     1797485   \n",
            "135            136      UTTAR PRADESH                      Rampur     2335819   \n",
            "151            152      UTTAR PRADESH                Shahjahanpur     3006538   \n",
            "209            210              BIHAR                  Kishanganj     1690400   \n",
            "332            333        WEST BENGAL                 Murshidabad     7103807   \n",
            "334            335        WEST BENGAL                  Barddhaman     7717563   \n",
            "336            337        WEST BENGAL  North Twenty Four Parganas    10009781   \n",
            "342            343        WEST BENGAL  South Twenty Four Parganas     8161961   \n",
            "343            344        WEST BENGAL           Paschim Medinipur     5913457   \n",
            "464            465     MADHYA PRADESH                   Alirajpur      728999   \n",
            "473            474            GUJARAT                   Ahmadabad     7214225   \n",
            "491            492            GUJARAT                       Surat     6081322   \n",
            "494            495      DAMAN AND DIU                       Daman      191173   \n",
            "515            516        MAHARASHTRA                      Nashik     6107187   \n",
            "516            517        MAHARASHTRA                       Thane    11060148   \n",
            "517            518        MAHARASHTRA             Mumbai Suburban     9356962   \n",
            "520            521        MAHARASHTRA                        Pune     9429408   \n",
            "536            537     ANDHRA PRADESH                  Rangareddy     5296741   \n",
            "537            538     ANDHRA PRADESH                 Mahbubnagar     4053028   \n",
            "547            548     ANDHRA PRADESH                      Guntur     4887813   \n",
            "551            552     ANDHRA PRADESH                     Kurnool     4053463   \n",
            "571            572          KARNATAKA                   Bangalore     9621551   \n",
            "591            592             KERALA                  Malappuram     4112920   \n",
            "596            597             KERALA                    Kottayam     1974551   \n",
            "597            598             KERALA                   Alappuzha     2127789   \n",
            "598            599             KERALA              Pathanamthitta     1197412   \n",
            "\n",
            "        Male   Female  Literate  Workers  Male_Workers  Female_Workers  ...  \\\n",
            "21    169124   149774    228139    92526         81952           10574  ...   \n",
            "26    498065   501712    723747   572671        297464          275207  ...   \n",
            "91   1188425  1053199   1611588   661386        594353           67033  ...   \n",
            "95   1356240  1187003   1961179   874320        732598          141722  ...   \n",
            "96   1246046  1046912   1787689   795352        667977          127375  ...   \n",
            "115   936634   892096    829582   896644        494906          401738  ...   \n",
            "124   907754   889731    829343   916574        482236          434338  ...   \n",
            "135  1223889  1111930   1043666   737261        609693          127568  ...   \n",
            "151  1606403  1400135   1490930   892214        783313          108901  ...   \n",
            "209   866970   823430    745056   529064        421192          107872  ...   \n",
            "332  3627564  3476243   4055834  2589907       1985667          604240  ...   \n",
            "334  3966889  3750674   5247208  2911251       2293083          618168  ...   \n",
            "336  5119389  4890392   7608693  3571624       2945189          626435  ...   \n",
            "342  4173778  3988183   5531657  2964494       2356571          607923  ...   \n",
            "343  3007885  2905572   4078412  2509159       1757358          751801  ...   \n",
            "464   362542   366457    209754   366797        188698          178099  ...   \n",
            "473  3788051  3426174   5435760  2594952       2127547          467405  ...   \n",
            "491  3402224  2679098   4571410  2553542       2142819          410723  ...   \n",
            "494   124659    66514    150348   105521         94502           11019  ...   \n",
            "515  3157186  2950001   4345366  2763328       1746286         1017042  ...   \n",
            "516  5865078  5195070   8227161  4492767       3363123         1129644  ...   \n",
            "517  5031323  4325639   7575485  3735021       2944322          790699  ...   \n",
            "520  4924105  4505303   7171723  4048993       2809816         1239177  ...   \n",
            "536  2701008  2595733   3538028  2196078       1488916          707162  ...   \n",
            "537  2050386  2002642   1940646  2082501       1140067          942434  ...   \n",
            "547  2440521  2447292   2960441  2381624       1442370          939254  ...   \n",
            "551  2039227  2014236   2127161  2029425       1164122          865303  ...   \n",
            "571  5022661  4598890   7512276  4246927       3115361         1131566  ...   \n",
            "591  1960328  2152592   3311315  1062424        898157          164267  ...   \n",
            "596   968289  1006262   1749798   735735        530322          205413  ...   \n",
            "597  1013142  1114647   1852797   804471        536738          267733  ...   \n",
            "598   561716   635696   1062553   392794        281854          110940  ...   \n",
            "\n",
            "      Jains  Secondary_Education  Higher_Education  Graduate_Education  \\\n",
            "21       16                61407             30503               14055   \n",
            "26       43               180188            128549               54139   \n",
            "91    24673               341540            212438              122983   \n",
            "95    11322               369114            327114              440295   \n",
            "96     9215               335645            308513              400800   \n",
            "115   14640                75304             32366               25210   \n",
            "124   22613                75011             50438               47094   \n",
            "135    1307                85117             51703               43839   \n",
            "151     301               158430             96308               87355   \n",
            "209    1476                42778             25989               15386   \n",
            "332    3037               443254            230242              170051   \n",
            "334    1674               698251            405935              439823   \n",
            "336    4452               989053            670977              852923   \n",
            "342     972               564417            316571              322157   \n",
            "343    1550               477973            262072              211437   \n",
            "464     780                18213             15358               10040   \n",
            "473  209287              1135058            549188              839295   \n",
            "491  112835               896927            433651              379505   \n",
            "494     244                26991             14170                9128   \n",
            "515   38212               830070            485052              373100   \n",
            "516  172052              1751284           1080597              961719   \n",
            "517  343639              1914168           1091433             1183117   \n",
            "520  127786              1414563            867256             1086650   \n",
            "536    3536               821821            598940              740896   \n",
            "537     388               308575            169083               98227   \n",
            "547    3282               453446            246580              221924   \n",
            "551    2235               271828            152453              115504   \n",
            "571   83090              2018079           1196965             1733274   \n",
            "591      68               933793            392867              203779   \n",
            "596      83               475724            280720              221350   \n",
            "597      74               573306            274789              198858   \n",
            "598      44               371128            172884              123549   \n",
            "\n",
            "     Age_Group_0_29  Age_Group_30_49  Age_Group_50  cluster  anomaly_score  \\\n",
            "21           177277            88246         53022        0       0.233379   \n",
            "26           524285           279321        194661        0       0.342675   \n",
            "91          1393078           581016        264663        2       0.042777   \n",
            "95          1399165           732515        408953        2       0.101462   \n",
            "96          1296955           683209        308675        2       0.000189   \n",
            "115         1176496           390598        249379        2      -0.000133   \n",
            "124         1153029           406214        216554        2      -0.074315   \n",
            "135         1576123           491164        258913        0       0.184580   \n",
            "151         1961237           652237        368743        2       0.058940   \n",
            "209         1139615           361114        188447        0       0.259271   \n",
            "332         4390564          1717594        991413        1      -0.637729   \n",
            "334         4149420          2265543       1292913        1      -0.571061   \n",
            "336         5104876          2968996       1921143        3      -3.371241   \n",
            "342         4763943          2151474       1235558        1      -1.282865   \n",
            "343         3243971          1664250        990179        1      -0.000079   \n",
            "464          488848           155328         84149        0       0.249496   \n",
            "473         3952858          2043895       1198152        1      -1.810448   \n",
            "491         3563443          1740746        723415        1      -0.577662   \n",
            "494          122589            52868         15428        0       0.178050   \n",
            "515         3580633          1567252        948469        1      -1.347255   \n",
            "516         6184519          3241888       1579921        3      -2.645731   \n",
            "517         4936360          2812001       1575566        3      -2.824506   \n",
            "520         5184734          2624165       1586132        3      -3.200678   \n",
            "536         2966988          1455864        738037        1      -0.586482   \n",
            "537         2360874          1027525        637430        1      -0.637897   \n",
            "547         2583462          1371811        928462        1      -0.176048   \n",
            "551         2368684          1053618        609027        1      -0.307313   \n",
            "571         5275666          2909575       1424195        3      -2.629115   \n",
            "591         2406005          1041361        662311        1      -0.791540   \n",
            "596          811653           596302        565048        2       0.079642   \n",
            "597          891512           648522        585591        2      -0.000079   \n",
            "598          479207           346161        370887        0      -0.172928   \n",
            "\n",
            "     anomaly  \n",
            "21        -1  \n",
            "26        -1  \n",
            "91        -1  \n",
            "95        -1  \n",
            "96        -1  \n",
            "115       -1  \n",
            "124       -1  \n",
            "135       -1  \n",
            "151       -1  \n",
            "209       -1  \n",
            "332       -1  \n",
            "334       -1  \n",
            "336       -1  \n",
            "342       -1  \n",
            "343       -1  \n",
            "464       -1  \n",
            "473       -1  \n",
            "491       -1  \n",
            "494       -1  \n",
            "515       -1  \n",
            "516       -1  \n",
            "517       -1  \n",
            "520       -1  \n",
            "536       -1  \n",
            "537       -1  \n",
            "547       -1  \n",
            "551       -1  \n",
            "571       -1  \n",
            "591       -1  \n",
            "596       -1  \n",
            "597       -1  \n",
            "598       -1  \n",
            "\n",
            "[32 rows x 28 columns]\n"
          ]
        }
      ]
    },
    {
      "source": [
        "import matplotlib.pyplot as plt\n",
        "plt.scatter(df['Literate'], df['Workers'], c=df['anomaly'])\n",
        "plt.xlabel('Literacy Rate')\n",
        "plt.ylabel('Worker Participation')\n",
        "plt.title('Anomaly Detection')\n",
        "plt.show()"
      ],
      "cell_type": "code",
      "metadata": {
        "colab": {
          "base_uri": "https://localhost:8080/",
          "height": 472
        },
        "id": "wZU-2dubjuj3",
        "outputId": "8beb546d-a565-4ac6-f42d-911ac6b145a1"
      },
      "execution_count": 31,
      "outputs": [
        {
          "output_type": "display_data",
          "data": {
            "text/plain": [
              "<Figure size 640x480 with 1 Axes>"
            ],
            "image/png": "[encoded data removed]"
          },
          "metadata": {}
        }
      ]
    },
    {
      "cell_type": "markdown",
      "source": [
        "## **Geospatial analysis**"
      ],
      "metadata": {
        "id": "uCz655RKhdWc"
      }
    },
    {
      "cell_type": "code",
      "source": [
        "# Alright, let's dive into geospatial analysis with your census data. This will require some additional data sources and libraries.\n",
        "\n",
        "# 1. Obtain Geospatial Data:\n",
        "\n",
        "# Infrastructure Data: You'll need geospatial data (shapefiles or GeoJSON) for schools, hospitals, transportation networks, etc. Look for open data sources like OpenStreetMap, government portals, or relevant organizations in your region.\n",
        "# Land Use Data: Find land use or land cover data for your area, indicating areas designated for urban, agricultural, forest, etc. purposes.\n",
        "# 2. Install Libraries:\n",
        "\n",
        "\n",
        "# pip install geopandas folium\n",
        "# Use code with caution\n",
        "# GeoPandas: Extends Pandas to work with geospatial data.\n",
        "# Folium: Creates interactive maps in Python.\n",
        "# 3. Accessibility Analysis (Example):\n",
        "\n",
        "\n",
        "# import geopandas as gpd\n",
        "# import folium\n",
        "\n",
        "# # Load census data and infrastructure data (replace with your file paths)\n",
        "# census_df = gpd.read_file('census_data.geojson')  # Assuming your census data has geometry\n",
        "# hospitals_gdf = gpd.read_file('hospitals.geojson')\n",
        "\n",
        "# # Calculate distance to nearest hospital for each census district (example)\n",
        "# census_df['distance_to_hospital'] = census_df.geometry.apply(lambda x: hospitals_gdf.distance(x).min())\n",
        "\n",
        "# # Create a Folium map\n",
        "# m = folium.Map(location=[census_df.geometry.centroid.y.mean(), census_df.geometry.centroid.x.mean()], zoom_start=10)\n",
        "\n",
        "# # Add census districts to the map, colored by distance to hospital\n",
        "# folium.Choropleth(\n",
        "#     geo_data=census_df.to_json(),\n",
        "#     data=census_df,\n",
        "#     columns=['District_code', 'distance_to_hospital'],\n",
        "#     key_on='feature.properties.District_code',\n",
        "#     fill_color='YlOrRd',\n",
        "#     fill_opacity=0.7,\n",
        "#     line_opacity=0.2,\n",
        "#     legend_name='Distance to Nearest Hospital'\n",
        "# ).add_to(m)\n",
        "\n",
        "# # Add hospitals as markers\n",
        "# for idx, row in hospitals_gdf.iterrows():\n",
        "#     folium.Marker([row['latitude'], row['longitude']], popup=row['name']).add_to(m)\n",
        "\n",
        "# # Display the map\n",
        "# m\n",
        "# Use code with caution\n",
        "# 4. Urban Planning (Example):\n",
        "\n",
        "\n",
        "# # Load land use data (replace with your file path)\n",
        "# land_use_gdf = gpd.read_file('land_use.geojson')\n",
        "\n",
        "# # Filter areas suitable for urban development based on criteria (example)\n",
        "# suitable_areas = land_use_gdf[\n",
        "#     (land_use_gdf['land_use_type'] == 'Vacant') &\n",
        "#     (land_use_gdf.geometry.area > 10000)  # Minimum area threshold\n",
        "# ]\n",
        "\n",
        "# # Visualize suitable areas on the map\n",
        "# folium.GeoJson(suitable_areas.to_json(), name='Suitable Areas').add_to(m)\n",
        "# Use code with caution\n",
        "# Explanation:\n",
        "\n",
        "# Load geospatial data: Use GeoPandas to read shapefiles or GeoJSON files.\n",
        "# Perform spatial calculations: Calculate distances, areas, or other spatial relationships as needed.\n",
        "# Visualize on a map: Use Folium to create interactive maps with choropleth layers, markers, and other features.\n",
        "# Remember:\n",
        "\n",
        "# Adapt the code: Replace file paths, column names, and criteria based on your specific data.\n",
        "# Explore spatial analysis techniques: There are many more possibilities, like buffer analysis, overlay analysis, and network analysis.\n",
        "# Consider environmental factors: Incorporate data on elevation, water resources, protected areas, etc. for comprehensive urban planning.\n",
        "# This is a starting point for geospatial analysis. Let me know if you have any specific questions or want to explore further!"
      ],
      "metadata": {
        "id": "FfPm721PfW4u"
      },
      "execution_count": null,
      "outputs": []
    }
  ]
}